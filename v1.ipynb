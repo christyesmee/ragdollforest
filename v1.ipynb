{
  "nbformat": 4,
  "nbformat_minor": 0,
  "metadata": {
    "colab": {
      "provenance": [],
      "authorship_tag": "ABX9TyO1dZUOs6VbeoS4UlES+UIS",
      "include_colab_link": true
    },
    "kernelspec": {
      "name": "python3",
      "display_name": "Python 3"
    },
    "language_info": {
      "name": "python"
    }
  },
  "cells": [
    {
      "cell_type": "markdown",
      "metadata": {
        "id": "view-in-github",
        "colab_type": "text"
      },
      "source": [
        "<a href=\"https://colab.research.google.com/github/christyesmee/ragdollforest/blob/main/v1.ipynb\" target=\"_parent\"><img src=\"https://colab.research.google.com/assets/colab-badge.svg\" alt=\"Open In Colab\"/></a>"
      ]
    },
    {
      "cell_type": "code",
      "execution_count": null,
      "metadata": {
        "id": "3pimxadVoOZ-"
      },
      "outputs": [],
      "source": [
        "#!/usr/bin/env python3\n",
        "\"\"\"Reproduce your result by your saved model.\n",
        "\n",
        "This is a script that helps reproduce your prediction results using your saved\n",
        "model. This script is unfinished and you need to fill in to make this script\n",
        "work. If you are using R, please use the R script template instead.\n",
        "\n",
        "The script needs to work by typing the following commandline (file names can be\n",
        "different):\n",
        "\n",
        "python3 run_model.py -i unlabelled_sample.txt -m model.pkl -o output.txt\n",
        "\n",
        "\"\"\"\n",
        "\n",
        "# author: Chao (Cico) Zhang\n",
        "# date: 31 Mar 2017\n",
        "\n",
        "import argparse\n",
        "import sys\n",
        "# Start your coding\n",
        "\n",
        "# import the library you need here\n",
        "\n",
        "# End your coding\n",
        "\n",
        "\n",
        "def main():\n",
        "    \"\"\"Main function.\"\"\"\n",
        "    parser = argparse.ArgumentParser(description='Reproduce the prediction')\n",
        "    parser.add_argument('-i', '--input', required=True, dest='input_file',\n",
        "                        metavar='unlabelled_sample.txt', type=str,\n",
        "                        help='Path of the input file')\n",
        "    parser.add_argument('-m', '--model', required=True, dest='model_file',\n",
        "                        metavar='model.pkl', type=str,\n",
        "                        help='Path of the model file')\n",
        "    parser.add_argument('-o', '--output', required=True,\n",
        "                        dest='output_file', metavar='output.txt', type=str,\n",
        "                        help='Path of the output file')\n",
        "    # Parse options\n",
        "    args = parser.parse_args()\n",
        "\n",
        "    if args.input_file is None:\n",
        "        sys.exit('Input is missing!')\n",
        "\n",
        "    if args.model_file is None:\n",
        "        sys.exit('Model file is missing!')\n",
        "\n",
        "    if args.output_file is None:\n",
        "        sys.exit('Output is not designated!')\n",
        "\n",
        "    # Start your coding\n",
        "\n",
        "    # suggested steps\n",
        "    # Step 1: load the model from the model file\n",
        "    # Step 2: apply the model to the input file to do the prediction\n",
        "    # Step 3: write the prediction into the desinated output file\n",
        "\n",
        "    # End your coding\n",
        "\n",
        "\n",
        "if __name__ == '__main__':\n",
        "    main()"
      ]
    }
  ]
}